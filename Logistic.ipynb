{
 "cells": [
  {
   "cell_type": "code",
   "execution_count": 1,
   "metadata": {
    "slideshow": {
     "slide_type": "slide"
    }
   },
   "outputs": [
    {
     "data": {
      "text/html": [
       "<div>\n",
       "<style scoped>\n",
       "    .dataframe tbody tr th:only-of-type {\n",
       "        vertical-align: middle;\n",
       "    }\n",
       "\n",
       "    .dataframe tbody tr th {\n",
       "        vertical-align: top;\n",
       "    }\n",
       "\n",
       "    .dataframe thead th {\n",
       "        text-align: right;\n",
       "    }\n",
       "</style>\n",
       "<table border=\"1\" class=\"dataframe\">\n",
       "  <thead>\n",
       "    <tr style=\"text-align: right;\">\n",
       "      <th></th>\n",
       "      <th>PassengerId</th>\n",
       "      <th>Survived</th>\n",
       "      <th>Pclass</th>\n",
       "      <th>Name</th>\n",
       "      <th>Sex</th>\n",
       "      <th>Age</th>\n",
       "      <th>SibSp</th>\n",
       "      <th>Parch</th>\n",
       "      <th>Ticket</th>\n",
       "      <th>Fare</th>\n",
       "      <th>Cabin</th>\n",
       "      <th>Embarked</th>\n",
       "    </tr>\n",
       "  </thead>\n",
       "  <tbody>\n",
       "    <tr>\n",
       "      <th>0</th>\n",
       "      <td>1</td>\n",
       "      <td>0</td>\n",
       "      <td>3</td>\n",
       "      <td>Braund, Mr. Owen Harris</td>\n",
       "      <td>male</td>\n",
       "      <td>22.0</td>\n",
       "      <td>1</td>\n",
       "      <td>0</td>\n",
       "      <td>A/5 21171</td>\n",
       "      <td>7.2500</td>\n",
       "      <td>NaN</td>\n",
       "      <td>S</td>\n",
       "    </tr>\n",
       "    <tr>\n",
       "      <th>1</th>\n",
       "      <td>2</td>\n",
       "      <td>1</td>\n",
       "      <td>1</td>\n",
       "      <td>Cumings, Mrs. John Bradley (Florence Briggs Th...</td>\n",
       "      <td>female</td>\n",
       "      <td>38.0</td>\n",
       "      <td>1</td>\n",
       "      <td>0</td>\n",
       "      <td>PC 17599</td>\n",
       "      <td>71.2833</td>\n",
       "      <td>C85</td>\n",
       "      <td>C</td>\n",
       "    </tr>\n",
       "    <tr>\n",
       "      <th>2</th>\n",
       "      <td>3</td>\n",
       "      <td>1</td>\n",
       "      <td>3</td>\n",
       "      <td>Heikkinen, Miss. Laina</td>\n",
       "      <td>female</td>\n",
       "      <td>26.0</td>\n",
       "      <td>0</td>\n",
       "      <td>0</td>\n",
       "      <td>STON/O2. 3101282</td>\n",
       "      <td>7.9250</td>\n",
       "      <td>NaN</td>\n",
       "      <td>S</td>\n",
       "    </tr>\n",
       "    <tr>\n",
       "      <th>3</th>\n",
       "      <td>4</td>\n",
       "      <td>1</td>\n",
       "      <td>1</td>\n",
       "      <td>Futrelle, Mrs. Jacques Heath (Lily May Peel)</td>\n",
       "      <td>female</td>\n",
       "      <td>35.0</td>\n",
       "      <td>1</td>\n",
       "      <td>0</td>\n",
       "      <td>113803</td>\n",
       "      <td>53.1000</td>\n",
       "      <td>C123</td>\n",
       "      <td>S</td>\n",
       "    </tr>\n",
       "    <tr>\n",
       "      <th>4</th>\n",
       "      <td>5</td>\n",
       "      <td>0</td>\n",
       "      <td>3</td>\n",
       "      <td>Allen, Mr. William Henry</td>\n",
       "      <td>male</td>\n",
       "      <td>35.0</td>\n",
       "      <td>0</td>\n",
       "      <td>0</td>\n",
       "      <td>373450</td>\n",
       "      <td>8.0500</td>\n",
       "      <td>NaN</td>\n",
       "      <td>S</td>\n",
       "    </tr>\n",
       "  </tbody>\n",
       "</table>\n",
       "</div>"
      ],
      "text/plain": [
       "   PassengerId  Survived  Pclass  \\\n",
       "0            1         0       3   \n",
       "1            2         1       1   \n",
       "2            3         1       3   \n",
       "3            4         1       1   \n",
       "4            5         0       3   \n",
       "\n",
       "                                                Name     Sex   Age  SibSp  \\\n",
       "0                            Braund, Mr. Owen Harris    male  22.0      1   \n",
       "1  Cumings, Mrs. John Bradley (Florence Briggs Th...  female  38.0      1   \n",
       "2                             Heikkinen, Miss. Laina  female  26.0      0   \n",
       "3       Futrelle, Mrs. Jacques Heath (Lily May Peel)  female  35.0      1   \n",
       "4                           Allen, Mr. William Henry    male  35.0      0   \n",
       "\n",
       "   Parch            Ticket     Fare Cabin Embarked  \n",
       "0      0         A/5 21171   7.2500   NaN        S  \n",
       "1      0          PC 17599  71.2833   C85        C  \n",
       "2      0  STON/O2. 3101282   7.9250   NaN        S  \n",
       "3      0            113803  53.1000  C123        S  \n",
       "4      0            373450   8.0500   NaN        S  "
      ]
     },
     "execution_count": 1,
     "metadata": {},
     "output_type": "execute_result"
    }
   ],
   "source": [
    "### Loading packages\n",
    "\n",
    "import numpy as np \n",
    "import pandas as pd\n",
    "import matplotlib.pyplot as plt\n",
    "import seaborn as sns\n",
    "\n",
    "#Import data\n",
    "data=pd.read_csv('files/Titanic.csv')\n",
    "\n",
    "data.head()"
   ]
  },
  {
   "cell_type": "code",
   "execution_count": 2,
   "metadata": {
    "slideshow": {
     "slide_type": "slide"
    }
   },
   "outputs": [
    {
     "name": "stderr",
     "output_type": "stream",
     "text": [
      "C:\\Anaconda3\\lib\\site-packages\\seaborn\\categorical.py:1460: FutureWarning: remove_na is deprecated and is a private function. Do not use.\n",
      "  stat_data = remove_na(group_data)\n"
     ]
    },
    {
     "data": {
      "image/png": "[encoded data removed]",
      "text/plain": [
       "<matplotlib.figure.Figure at 0x1f0f16e19e8>"
      ]
     },
     "metadata": {},
     "output_type": "display_data"
    }
   ],
   "source": [
    "# % Survived\n",
    "%matplotlib inline\n",
    "ax = sns.countplot('Survived',data=data)\n",
    "total = len(data)*1.0\n",
    "#ax = (data.Survived.value_counts()*100/len(data)).sort_index().plot(kind=\"bar\", rot=0)\n",
    "for p in ax.patches:\n",
    "        ax.annotate('%{:.1f}'.format(p.get_height()*100/total), (p.get_x()+0.1, p.get_height()+50))\n",
    "plt.show()"
   ]
  },
  {
   "cell_type": "code",
   "execution_count": 3,
   "metadata": {},
   "outputs": [
    {
     "data": {
      "text/html": [
       "<table style=\"display:inline\" border=\"1\" class=\"dataframe\">\n",
       "  <thead>\n",
       "    <tr style=\"text-align: right;\">\n",
       "      <th>Survived</th>\n",
       "      <th>0</th>\n",
       "      <th>1</th>\n",
       "      <th>All</th>\n",
       "    </tr>\n",
       "    <tr>\n",
       "      <th>Pclass</th>\n",
       "      <th></th>\n",
       "      <th></th>\n",
       "      <th></th>\n",
       "    </tr>\n",
       "  </thead>\n",
       "  <tbody>\n",
       "    <tr>\n",
       "      <th>1</th>\n",
       "      <td>80</td>\n",
       "      <td>136</td>\n",
       "      <td>216</td>\n",
       "    </tr>\n",
       "    <tr>\n",
       "      <th>2</th>\n",
       "      <td>97</td>\n",
       "      <td>87</td>\n",
       "      <td>184</td>\n",
       "    </tr>\n",
       "    <tr>\n",
       "      <th>3</th>\n",
       "      <td>372</td>\n",
       "      <td>119</td>\n",
       "      <td>491</td>\n",
       "    </tr>\n",
       "    <tr>\n",
       "      <th>All</th>\n",
       "      <td>549</td>\n",
       "      <td>342</td>\n",
       "      <td>891</td>\n",
       "    </tr>\n",
       "  </tbody>\n",
       "</table style=\"display:inline\"><table style=\"display:inline\" border=\"1\" class=\"dataframe\">\n",
       "  <thead>\n",
       "    <tr style=\"text-align: right;\">\n",
       "      <th>Survived</th>\n",
       "      <th>0</th>\n",
       "      <th>1</th>\n",
       "      <th>All</th>\n",
       "    </tr>\n",
       "    <tr>\n",
       "      <th>Sex</th>\n",
       "      <th></th>\n",
       "      <th></th>\n",
       "      <th></th>\n",
       "    </tr>\n",
       "  </thead>\n",
       "  <tbody>\n",
       "    <tr>\n",
       "      <th>female</th>\n",
       "      <td>81</td>\n",
       "      <td>233</td>\n",
       "      <td>314</td>\n",
       "    </tr>\n",
       "    <tr>\n",
       "      <th>male</th>\n",
       "      <td>468</td>\n",
       "      <td>109</td>\n",
       "      <td>577</td>\n",
       "    </tr>\n",
       "    <tr>\n",
       "      <th>All</th>\n",
       "      <td>549</td>\n",
       "      <td>342</td>\n",
       "      <td>891</td>\n",
       "    </tr>\n",
       "  </tbody>\n",
       "</table style=\"display:inline\"><table style=\"display:inline\" border=\"1\" class=\"dataframe\">\n",
       "  <thead>\n",
       "    <tr style=\"text-align: right;\">\n",
       "      <th>Survived</th>\n",
       "      <th>0</th>\n",
       "      <th>1</th>\n",
       "      <th>All</th>\n",
       "    </tr>\n",
       "    <tr>\n",
       "      <th>SibSp</th>\n",
       "      <th></th>\n",
       "      <th></th>\n",
       "      <th></th>\n",
       "    </tr>\n",
       "  </thead>\n",
       "  <tbody>\n",
       "    <tr>\n",
       "      <th>0</th>\n",
       "      <td>398</td>\n",
       "      <td>210</td>\n",
       "      <td>608</td>\n",
       "    </tr>\n",
       "    <tr>\n",
       "      <th>1</th>\n",
       "      <td>97</td>\n",
       "      <td>112</td>\n",
       "      <td>209</td>\n",
       "    </tr>\n",
       "    <tr>\n",
       "      <th>2</th>\n",
       "      <td>15</td>\n",
       "      <td>13</td>\n",
       "      <td>28</td>\n",
       "    </tr>\n",
       "    <tr>\n",
       "      <th>3</th>\n",
       "      <td>12</td>\n",
       "      <td>4</td>\n",
       "      <td>16</td>\n",
       "    </tr>\n",
       "    <tr>\n",
       "      <th>4</th>\n",
       "      <td>15</td>\n",
       "      <td>3</td>\n",
       "      <td>18</td>\n",
       "    </tr>\n",
       "    <tr>\n",
       "      <th>5</th>\n",
       "      <td>5</td>\n",
       "      <td>0</td>\n",
       "      <td>5</td>\n",
       "    </tr>\n",
       "    <tr>\n",
       "      <th>8</th>\n",
       "      <td>7</td>\n",
       "      <td>0</td>\n",
       "      <td>7</td>\n",
       "    </tr>\n",
       "    <tr>\n",
       "      <th>All</th>\n",
       "      <td>549</td>\n",
       "      <td>342</td>\n",
       "      <td>891</td>\n",
       "    </tr>\n",
       "  </tbody>\n",
       "</table style=\"display:inline\"><table style=\"display:inline\" border=\"1\" class=\"dataframe\">\n",
       "  <thead>\n",
       "    <tr style=\"text-align: right;\">\n",
       "      <th>Survived</th>\n",
       "      <th>0</th>\n",
       "      <th>1</th>\n",
       "      <th>All</th>\n",
       "    </tr>\n",
       "    <tr>\n",
       "      <th>Parch</th>\n",
       "      <th></th>\n",
       "      <th></th>\n",
       "      <th></th>\n",
       "    </tr>\n",
       "  </thead>\n",
       "  <tbody>\n",
       "    <tr>\n",
       "      <th>0</th>\n",
       "      <td>445</td>\n",
       "      <td>233</td>\n",
       "      <td>678</td>\n",
       "    </tr>\n",
       "    <tr>\n",
       "      <th>1</th>\n",
       "      <td>53</td>\n",
       "      <td>65</td>\n",
       "      <td>118</td>\n",
       "    </tr>\n",
       "    <tr>\n",
       "      <th>2</th>\n",
       "      <td>40</td>\n",
       "      <td>40</td>\n",
       "      <td>80</td>\n",
       "    </tr>\n",
       "    <tr>\n",
       "      <th>3</th>\n",
       "      <td>2</td>\n",
       "      <td>3</td>\n",
       "      <td>5</td>\n",
       "    </tr>\n",
       "    <tr>\n",
       "      <th>4</th>\n",
       "      <td>4</td>\n",
       "      <td>0</td>\n",
       "      <td>4</td>\n",
       "    </tr>\n",
       "    <tr>\n",
       "      <th>5</th>\n",
       "      <td>4</td>\n",
       "      <td>1</td>\n",
       "      <td>5</td>\n",
       "    </tr>\n",
       "    <tr>\n",
       "      <th>6</th>\n",
       "      <td>1</td>\n",
       "      <td>0</td>\n",
       "      <td>1</td>\n",
       "    </tr>\n",
       "    <tr>\n",
       "      <th>All</th>\n",
       "      <td>549</td>\n",
       "      <td>342</td>\n",
       "      <td>891</td>\n",
       "    </tr>\n",
       "  </tbody>\n",
       "</table style=\"display:inline\"><table style=\"display:inline\" border=\"1\" class=\"dataframe\">\n",
       "  <thead>\n",
       "    <tr style=\"text-align: right;\">\n",
       "      <th>Survived</th>\n",
       "      <th>0</th>\n",
       "      <th>1</th>\n",
       "      <th>All</th>\n",
       "    </tr>\n",
       "    <tr>\n",
       "      <th>Embarked</th>\n",
       "      <th></th>\n",
       "      <th></th>\n",
       "      <th></th>\n",
       "    </tr>\n",
       "  </thead>\n",
       "  <tbody>\n",
       "    <tr>\n",
       "      <th>C</th>\n",
       "      <td>75</td>\n",
       "      <td>93</td>\n",
       "      <td>168</td>\n",
       "    </tr>\n",
       "    <tr>\n",
       "      <th>Q</th>\n",
       "      <td>47</td>\n",
       "      <td>30</td>\n",
       "      <td>77</td>\n",
       "    </tr>\n",
       "    <tr>\n",
       "      <th>S</th>\n",
       "      <td>427</td>\n",
       "      <td>217</td>\n",
       "      <td>644</td>\n",
       "    </tr>\n",
       "    <tr>\n",
       "      <th>All</th>\n",
       "      <td>549</td>\n",
       "      <td>340</td>\n",
       "      <td>889</td>\n",
       "    </tr>\n",
       "  </tbody>\n",
       "</table style=\"display:inline\">"
      ]
     },
     "metadata": {},
     "output_type": "display_data"
    }
   ],
   "source": [
    "# Below function is to show multiple table outputs side by side\n",
    "from IPython.display import display_html\n",
    "def display_side_by_side(*args):\n",
    "    html_str=''\n",
    "    for df in args:\n",
    "        html_str+=df.to_html()\n",
    "    display_html(html_str.replace('table','table style=\"display:inline\"'),raw=True)\n",
    "\n",
    "# We can perform a crosstab on the categorical variable with the Survive flag to check the relation\n",
    "\n",
    "pc = pd.crosstab(data.Pclass,data.Survived,margins=True)\n",
    "sx = pd.crosstab(data.Sex,data.Survived,margins=True)\n",
    "sp = pd.crosstab(data.SibSp,data.Survived,margins=True)\n",
    "prc = pd.crosstab(data.Parch,data.Survived,margins=True)\n",
    "em = pd.crosstab(data.Embarked,data.Survived,margins=True)\n",
    "\n",
    "display_side_by_side(pc,sx,sp,prc,em)"
   ]
  },
  {
   "cell_type": "code",
   "execution_count": 4,
   "metadata": {
    "slideshow": {
     "slide_type": "slide"
    }
   },
   "outputs": [
    {
     "data": {
      "text/html": [
       "<div>\n",
       "<style scoped>\n",
       "    .dataframe tbody tr th:only-of-type {\n",
       "        vertical-align: middle;\n",
       "    }\n",
       "\n",
       "    .dataframe tbody tr th {\n",
       "        vertical-align: top;\n",
       "    }\n",
       "\n",
       "    .dataframe thead th {\n",
       "        text-align: right;\n",
       "    }\n",
       "</style>\n",
       "<table border=\"1\" class=\"dataframe\">\n",
       "  <thead>\n",
       "    <tr style=\"text-align: right;\">\n",
       "      <th></th>\n",
       "      <th>Age</th>\n",
       "      <th>Fare</th>\n",
       "    </tr>\n",
       "  </thead>\n",
       "  <tbody>\n",
       "    <tr>\n",
       "      <th>count</th>\n",
       "      <td>714.000000</td>\n",
       "      <td>891.000000</td>\n",
       "    </tr>\n",
       "    <tr>\n",
       "      <th>mean</th>\n",
       "      <td>29.699118</td>\n",
       "      <td>32.204208</td>\n",
       "    </tr>\n",
       "    <tr>\n",
       "      <th>std</th>\n",
       "      <td>14.526497</td>\n",
       "      <td>49.693429</td>\n",
       "    </tr>\n",
       "    <tr>\n",
       "      <th>min</th>\n",
       "      <td>0.420000</td>\n",
       "      <td>0.000000</td>\n",
       "    </tr>\n",
       "    <tr>\n",
       "      <th>25%</th>\n",
       "      <td>20.125000</td>\n",
       "      <td>7.910400</td>\n",
       "    </tr>\n",
       "    <tr>\n",
       "      <th>50%</th>\n",
       "      <td>28.000000</td>\n",
       "      <td>14.454200</td>\n",
       "    </tr>\n",
       "    <tr>\n",
       "      <th>75%</th>\n",
       "      <td>38.000000</td>\n",
       "      <td>31.000000</td>\n",
       "    </tr>\n",
       "    <tr>\n",
       "      <th>max</th>\n",
       "      <td>80.000000</td>\n",
       "      <td>512.329200</td>\n",
       "    </tr>\n",
       "  </tbody>\n",
       "</table>\n",
       "</div>"
      ],
      "text/plain": [
       "              Age        Fare\n",
       "count  714.000000  891.000000\n",
       "mean    29.699118   32.204208\n",
       "std     14.526497   49.693429\n",
       "min      0.420000    0.000000\n",
       "25%     20.125000    7.910400\n",
       "50%     28.000000   14.454200\n",
       "75%     38.000000   31.000000\n",
       "max     80.000000  512.329200"
      ]
     },
     "execution_count": 4,
     "metadata": {},
     "output_type": "execute_result"
    }
   ],
   "source": [
    "# Descriptive statistics on the continuous variables\n",
    "data[['Age','Fare']].describe()"
   ]
  },
  {
   "cell_type": "code",
   "execution_count": 5,
   "metadata": {
    "slideshow": {
     "slide_type": "slide"
    }
   },
   "outputs": [
    {
     "data": {
      "text/html": [
       "<table style=\"display:inline\" border=\"1\" class=\"dataframe\">\n",
       "  <thead>\n",
       "    <tr style=\"text-align: right;\">\n",
       "      <th></th>\n",
       "      <th>Age</th>\n",
       "      <th>Fare</th>\n",
       "    </tr>\n",
       "  </thead>\n",
       "  <tbody>\n",
       "    <tr>\n",
       "      <th>count</th>\n",
       "      <td>424.000000</td>\n",
       "      <td>549.000000</td>\n",
       "    </tr>\n",
       "    <tr>\n",
       "      <th>mean</th>\n",
       "      <td>30.626179</td>\n",
       "      <td>22.117887</td>\n",
       "    </tr>\n",
       "    <tr>\n",
       "      <th>std</th>\n",
       "      <td>14.172110</td>\n",
       "      <td>31.388207</td>\n",
       "    </tr>\n",
       "    <tr>\n",
       "      <th>min</th>\n",
       "      <td>1.000000</td>\n",
       "      <td>0.000000</td>\n",
       "    </tr>\n",
       "    <tr>\n",
       "      <th>25%</th>\n",
       "      <td>21.000000</td>\n",
       "      <td>7.854200</td>\n",
       "    </tr>\n",
       "    <tr>\n",
       "      <th>50%</th>\n",
       "      <td>28.000000</td>\n",
       "      <td>10.500000</td>\n",
       "    </tr>\n",
       "    <tr>\n",
       "      <th>75%</th>\n",
       "      <td>39.000000</td>\n",
       "      <td>26.000000</td>\n",
       "    </tr>\n",
       "    <tr>\n",
       "      <th>max</th>\n",
       "      <td>74.000000</td>\n",
       "      <td>263.000000</td>\n",
       "    </tr>\n",
       "  </tbody>\n",
       "</table style=\"display:inline\"><table style=\"display:inline\" border=\"1\" class=\"dataframe\">\n",
       "  <thead>\n",
       "    <tr style=\"text-align: right;\">\n",
       "      <th></th>\n",
       "      <th>Age</th>\n",
       "      <th>Fare</th>\n",
       "    </tr>\n",
       "  </thead>\n",
       "  <tbody>\n",
       "    <tr>\n",
       "      <th>count</th>\n",
       "      <td>290.000000</td>\n",
       "      <td>342.000000</td>\n",
       "    </tr>\n",
       "    <tr>\n",
       "      <th>mean</th>\n",
       "      <td>28.343690</td>\n",
       "      <td>48.395408</td>\n",
       "    </tr>\n",
       "    <tr>\n",
       "      <th>std</th>\n",
       "      <td>14.950952</td>\n",
       "      <td>66.596998</td>\n",
       "    </tr>\n",
       "    <tr>\n",
       "      <th>min</th>\n",
       "      <td>0.420000</td>\n",
       "      <td>0.000000</td>\n",
       "    </tr>\n",
       "    <tr>\n",
       "      <th>25%</th>\n",
       "      <td>19.000000</td>\n",
       "      <td>12.475000</td>\n",
       "    </tr>\n",
       "    <tr>\n",
       "      <th>50%</th>\n",
       "      <td>28.000000</td>\n",
       "      <td>26.000000</td>\n",
       "    </tr>\n",
       "    <tr>\n",
       "      <th>75%</th>\n",
       "      <td>36.000000</td>\n",
       "      <td>57.000000</td>\n",
       "    </tr>\n",
       "    <tr>\n",
       "      <th>max</th>\n",
       "      <td>80.000000</td>\n",
       "      <td>512.329200</td>\n",
       "    </tr>\n",
       "  </tbody>\n",
       "</table style=\"display:inline\">"
      ]
     },
     "metadata": {},
     "output_type": "display_data"
    }
   ],
   "source": [
    "# Descriptive Stat by Survived class\n",
    "c0 = data.loc[data['Survived']==0,['Age','Fare']].describe()\n",
    "c1 = data.loc[data['Survived']==1,['Age','Fare']].describe()\n",
    "display_side_by_side(c0,c1)"
   ]
  },
  {
   "cell_type": "code",
   "execution_count": 6,
   "metadata": {
    "slideshow": {
     "slide_type": "slide"
    }
   },
   "outputs": [
    {
     "data": {
      "text/plain": [
       "PassengerId      0\n",
       "Survived         0\n",
       "Pclass           0\n",
       "Name             0\n",
       "Sex              0\n",
       "Age            177\n",
       "SibSp            0\n",
       "Parch            0\n",
       "Ticket           0\n",
       "Fare             0\n",
       "Cabin          687\n",
       "Embarked         2\n",
       "dtype: int64"
      ]
     },
     "execution_count": 6,
     "metadata": {},
     "output_type": "execute_result"
    }
   ],
   "source": [
    "# Check Missing values\n",
    "data.isnull().sum()"
   ]
  },
  {
   "cell_type": "code",
   "execution_count": 7,
   "metadata": {
    "slideshow": {
     "slide_type": "slide"
    }
   },
   "outputs": [
    {
     "name": "stderr",
     "output_type": "stream",
     "text": [
      "C:\\Anaconda3\\lib\\site-packages\\ipykernel\\__main__.py:11: FutureWarning: currently extract(expand=None) means expand=False (return Index/Series/DataFrame) but in a future version of pandas this will be changed to expand=True (return DataFrame)\n"
     ]
    },
    {
     "data": {
      "text/html": [
       "<style  type=\"text/css\" >\n",
       "    #T_3663be90_738f_11e8_8556_507b9d3bd6afrow0_col0 {\n",
       "            background-color:  #ffff66;\n",
       "        }    #T_3663be90_738f_11e8_8556_507b9d3bd6afrow0_col1 {\n",
       "            background-color:  #ffff66;\n",
       "        }    #T_3663be90_738f_11e8_8556_507b9d3bd6afrow0_col2 {\n",
       "            background-color:  #008066;\n",
       "        }    #T_3663be90_738f_11e8_8556_507b9d3bd6afrow0_col3 {\n",
       "            background-color:  #ffff66;\n",
       "        }    #T_3663be90_738f_11e8_8556_507b9d3bd6afrow0_col4 {\n",
       "            background-color:  #ffff66;\n",
       "        }    #T_3663be90_738f_11e8_8556_507b9d3bd6afrow0_col5 {\n",
       "            background-color:  #ffff66;\n",
       "        }    #T_3663be90_738f_11e8_8556_507b9d3bd6afrow0_col6 {\n",
       "            background-color:  #008066;\n",
       "        }    #T_3663be90_738f_11e8_8556_507b9d3bd6afrow0_col7 {\n",
       "            background-color:  #ffff66;\n",
       "        }    #T_3663be90_738f_11e8_8556_507b9d3bd6afrow0_col8 {\n",
       "            background-color:  #ffff66;\n",
       "        }    #T_3663be90_738f_11e8_8556_507b9d3bd6afrow0_col9 {\n",
       "            background-color:  #008066;\n",
       "        }    #T_3663be90_738f_11e8_8556_507b9d3bd6afrow0_col10 {\n",
       "            background-color:  #008066;\n",
       "        }    #T_3663be90_738f_11e8_8556_507b9d3bd6afrow0_col11 {\n",
       "            background-color:  #008066;\n",
       "        }    #T_3663be90_738f_11e8_8556_507b9d3bd6afrow0_col12 {\n",
       "            background-color:  #ffff66;\n",
       "        }    #T_3663be90_738f_11e8_8556_507b9d3bd6afrow0_col13 {\n",
       "            background-color:  #008066;\n",
       "        }    #T_3663be90_738f_11e8_8556_507b9d3bd6afrow0_col14 {\n",
       "            background-color:  #008066;\n",
       "        }    #T_3663be90_738f_11e8_8556_507b9d3bd6afrow0_col15 {\n",
       "            background-color:  #ffff66;\n",
       "        }    #T_3663be90_738f_11e8_8556_507b9d3bd6afrow0_col16 {\n",
       "            background-color:  #ffff66;\n",
       "        }    #T_3663be90_738f_11e8_8556_507b9d3bd6afrow1_col0 {\n",
       "            background-color:  #008066;\n",
       "        }    #T_3663be90_738f_11e8_8556_507b9d3bd6afrow1_col1 {\n",
       "            background-color:  #008066;\n",
       "        }    #T_3663be90_738f_11e8_8556_507b9d3bd6afrow1_col2 {\n",
       "            background-color:  #ffff66;\n",
       "        }    #T_3663be90_738f_11e8_8556_507b9d3bd6afrow1_col3 {\n",
       "            background-color:  #008066;\n",
       "        }    #T_3663be90_738f_11e8_8556_507b9d3bd6afrow1_col4 {\n",
       "            background-color:  #008066;\n",
       "        }    #T_3663be90_738f_11e8_8556_507b9d3bd6afrow1_col5 {\n",
       "            background-color:  #008066;\n",
       "        }    #T_3663be90_738f_11e8_8556_507b9d3bd6afrow1_col6 {\n",
       "            background-color:  #ffff66;\n",
       "        }    #T_3663be90_738f_11e8_8556_507b9d3bd6afrow1_col7 {\n",
       "            background-color:  #008066;\n",
       "        }    #T_3663be90_738f_11e8_8556_507b9d3bd6afrow1_col8 {\n",
       "            background-color:  #008066;\n",
       "        }    #T_3663be90_738f_11e8_8556_507b9d3bd6afrow1_col9 {\n",
       "            background-color:  #ffff66;\n",
       "        }    #T_3663be90_738f_11e8_8556_507b9d3bd6afrow1_col10 {\n",
       "            background-color:  #ffff66;\n",
       "        }    #T_3663be90_738f_11e8_8556_507b9d3bd6afrow1_col11 {\n",
       "            background-color:  #ffff66;\n",
       "        }    #T_3663be90_738f_11e8_8556_507b9d3bd6afrow1_col12 {\n",
       "            background-color:  #008066;\n",
       "        }    #T_3663be90_738f_11e8_8556_507b9d3bd6afrow1_col13 {\n",
       "            background-color:  #ffff66;\n",
       "        }    #T_3663be90_738f_11e8_8556_507b9d3bd6afrow1_col14 {\n",
       "            background-color:  #ffff66;\n",
       "        }    #T_3663be90_738f_11e8_8556_507b9d3bd6afrow1_col15 {\n",
       "            background-color:  #008066;\n",
       "        }    #T_3663be90_738f_11e8_8556_507b9d3bd6afrow1_col16 {\n",
       "            background-color:  #008066;\n",
       "        }</style>  \n",
       "<table id=\"T_3663be90_738f_11e8_8556_507b9d3bd6af\" > \n",
       "<thead>    <tr> \n",
       "        <th class=\"index_name level0\" >title</th> \n",
       "        <th class=\"col_heading level0 col0\" >Capt</th> \n",
       "        <th class=\"col_heading level0 col1\" >Col</th> \n",
       "        <th class=\"col_heading level0 col2\" >Countess</th> \n",
       "        <th class=\"col_heading level0 col3\" >Don</th> \n",
       "        <th class=\"col_heading level0 col4\" >Dr</th> \n",
       "        <th class=\"col_heading level0 col5\" >Jonkheer</th> \n",
       "        <th class=\"col_heading level0 col6\" >Lady</th> \n",
       "        <th class=\"col_heading level0 col7\" >Major</th> \n",
       "        <th class=\"col_heading level0 col8\" >Master</th> \n",
       "        <th class=\"col_heading level0 col9\" >Miss</th> \n",
       "        <th class=\"col_heading level0 col10\" >Mlle</th> \n",
       "        <th class=\"col_heading level0 col11\" >Mme</th> \n",
       "        <th class=\"col_heading level0 col12\" >Mr</th> \n",
       "        <th class=\"col_heading level0 col13\" >Mrs</th> \n",
       "        <th class=\"col_heading level0 col14\" >Ms</th> \n",
       "        <th class=\"col_heading level0 col15\" >Rev</th> \n",
       "        <th class=\"col_heading level0 col16\" >Sir</th> \n",
       "    </tr>    <tr> \n",
       "        <th class=\"index_name level0\" >Sex</th> \n",
       "        <th class=\"blank\" ></th> \n",
       "        <th class=\"blank\" ></th> \n",
       "        <th class=\"blank\" ></th> \n",
       "        <th class=\"blank\" ></th> \n",
       "        <th class=\"blank\" ></th> \n",
       "        <th class=\"blank\" ></th> \n",
       "        <th class=\"blank\" ></th> \n",
       "        <th class=\"blank\" ></th> \n",
       "        <th class=\"blank\" ></th> \n",
       "        <th class=\"blank\" ></th> \n",
       "        <th class=\"blank\" ></th> \n",
       "        <th class=\"blank\" ></th> \n",
       "        <th class=\"blank\" ></th> \n",
       "        <th class=\"blank\" ></th> \n",
       "        <th class=\"blank\" ></th> \n",
       "        <th class=\"blank\" ></th> \n",
       "        <th class=\"blank\" ></th> \n",
       "    </tr></thead> \n",
       "<tbody>    <tr> \n",
       "        <th id=\"T_3663be90_738f_11e8_8556_507b9d3bd6aflevel0_row0\" class=\"row_heading level0 row0\" >female</th> \n",
       "        <td id=\"T_3663be90_738f_11e8_8556_507b9d3bd6afrow0_col0\" class=\"data row0 col0\" >0</td> \n",
       "        <td id=\"T_3663be90_738f_11e8_8556_507b9d3bd6afrow0_col1\" class=\"data row0 col1\" >0</td> \n",
       "        <td id=\"T_3663be90_738f_11e8_8556_507b9d3bd6afrow0_col2\" class=\"data row0 col2\" >1</td> \n",
       "        <td id=\"T_3663be90_738f_11e8_8556_507b9d3bd6afrow0_col3\" class=\"data row0 col3\" >0</td> \n",
       "        <td id=\"T_3663be90_738f_11e8_8556_507b9d3bd6afrow0_col4\" class=\"data row0 col4\" >1</td> \n",
       "        <td id=\"T_3663be90_738f_11e8_8556_507b9d3bd6afrow0_col5\" class=\"data row0 col5\" >0</td> \n",
       "        <td id=\"T_3663be90_738f_11e8_8556_507b9d3bd6afrow0_col6\" class=\"data row0 col6\" >1</td> \n",
       "        <td id=\"T_3663be90_738f_11e8_8556_507b9d3bd6afrow0_col7\" class=\"data row0 col7\" >0</td> \n",
       "        <td id=\"T_3663be90_738f_11e8_8556_507b9d3bd6afrow0_col8\" class=\"data row0 col8\" >0</td> \n",
       "        <td id=\"T_3663be90_738f_11e8_8556_507b9d3bd6afrow0_col9\" class=\"data row0 col9\" >182</td> \n",
       "        <td id=\"T_3663be90_738f_11e8_8556_507b9d3bd6afrow0_col10\" class=\"data row0 col10\" >2</td> \n",
       "        <td id=\"T_3663be90_738f_11e8_8556_507b9d3bd6afrow0_col11\" class=\"data row0 col11\" >1</td> \n",
       "        <td id=\"T_3663be90_738f_11e8_8556_507b9d3bd6afrow0_col12\" class=\"data row0 col12\" >0</td> \n",
       "        <td id=\"T_3663be90_738f_11e8_8556_507b9d3bd6afrow0_col13\" class=\"data row0 col13\" >125</td> \n",
       "        <td id=\"T_3663be90_738f_11e8_8556_507b9d3bd6afrow0_col14\" class=\"data row0 col14\" >1</td> \n",
       "        <td id=\"T_3663be90_738f_11e8_8556_507b9d3bd6afrow0_col15\" class=\"data row0 col15\" >0</td> \n",
       "        <td id=\"T_3663be90_738f_11e8_8556_507b9d3bd6afrow0_col16\" class=\"data row0 col16\" >0</td> \n",
       "    </tr>    <tr> \n",
       "        <th id=\"T_3663be90_738f_11e8_8556_507b9d3bd6aflevel0_row1\" class=\"row_heading level0 row1\" >male</th> \n",
       "        <td id=\"T_3663be90_738f_11e8_8556_507b9d3bd6afrow1_col0\" class=\"data row1 col0\" >1</td> \n",
       "        <td id=\"T_3663be90_738f_11e8_8556_507b9d3bd6afrow1_col1\" class=\"data row1 col1\" >2</td> \n",
       "        <td id=\"T_3663be90_738f_11e8_8556_507b9d3bd6afrow1_col2\" class=\"data row1 col2\" >0</td> \n",
       "        <td id=\"T_3663be90_738f_11e8_8556_507b9d3bd6afrow1_col3\" class=\"data row1 col3\" >1</td> \n",
       "        <td id=\"T_3663be90_738f_11e8_8556_507b9d3bd6afrow1_col4\" class=\"data row1 col4\" >6</td> \n",
       "        <td id=\"T_3663be90_738f_11e8_8556_507b9d3bd6afrow1_col5\" class=\"data row1 col5\" >1</td> \n",
       "        <td id=\"T_3663be90_738f_11e8_8556_507b9d3bd6afrow1_col6\" class=\"data row1 col6\" >0</td> \n",
       "        <td id=\"T_3663be90_738f_11e8_8556_507b9d3bd6afrow1_col7\" class=\"data row1 col7\" >2</td> \n",
       "        <td id=\"T_3663be90_738f_11e8_8556_507b9d3bd6afrow1_col8\" class=\"data row1 col8\" >40</td> \n",
       "        <td id=\"T_3663be90_738f_11e8_8556_507b9d3bd6afrow1_col9\" class=\"data row1 col9\" >0</td> \n",
       "        <td id=\"T_3663be90_738f_11e8_8556_507b9d3bd6afrow1_col10\" class=\"data row1 col10\" >0</td> \n",
       "        <td id=\"T_3663be90_738f_11e8_8556_507b9d3bd6afrow1_col11\" class=\"data row1 col11\" >0</td> \n",
       "        <td id=\"T_3663be90_738f_11e8_8556_507b9d3bd6afrow1_col12\" class=\"data row1 col12\" >517</td> \n",
       "        <td id=\"T_3663be90_738f_11e8_8556_507b9d3bd6afrow1_col13\" class=\"data row1 col13\" >0</td> \n",
       "        <td id=\"T_3663be90_738f_11e8_8556_507b9d3bd6afrow1_col14\" class=\"data row1 col14\" >0</td> \n",
       "        <td id=\"T_3663be90_738f_11e8_8556_507b9d3bd6afrow1_col15\" class=\"data row1 col15\" >6</td> \n",
       "        <td id=\"T_3663be90_738f_11e8_8556_507b9d3bd6afrow1_col16\" class=\"data row1 col16\" >1</td> \n",
       "    </tr></tbody> \n",
       "</table> "
      ],
      "text/plain": [
       "<pandas.io.formats.style.Styler at 0x1f0f1a857f0>"
      ]
     },
     "execution_count": 7,
     "metadata": {},
     "output_type": "execute_result"
    }
   ],
   "source": [
    "# Imputing Age variable\n",
    "\n",
    "### We can impute missing value, in this case the Age, by the mean value. But there is a challenge, but if we use mean for imputation, then even a kid can get assigned an age of 29 years, which will give a wrong picture\n",
    "### This can distort our model results\n",
    "### Name title can give us a sense of the Age bracket (Mr, Mrs, Master...)\n",
    "### Hence, we can impute by calculating mean age by the name title\n",
    "\n",
    "#Extract Title\n",
    "data['title']=0\n",
    "for i in data:\n",
    "    data['title']=data.Name.str.extract('([A-Za-z]+)\\.') #lets extract the Salutations\n",
    "\n",
    "pd.crosstab(data.title,data.Sex).T.style.background_gradient(cmap='summer_r')"
   ]
  },
  {
   "cell_type": "code",
   "execution_count": 8,
   "metadata": {
    "slideshow": {
     "slide_type": "slide"
    }
   },
   "outputs": [
    {
     "data": {
      "text/plain": [
       "0"
      ]
     },
     "execution_count": 8,
     "metadata": {},
     "output_type": "execute_result"
    }
   ],
   "source": [
    "# Clean the title column\n",
    "data['title'].replace(['Mlle','Mme','Ms','Dr','Major','Lady','Countess','Jonkheer','Col','Rev','Capt','Sir','Don'],\n",
    "                      ['Miss','Miss','Miss','Mr','Mr','Mrs','Mrs','Other','Other','Other','Mr','Mr','Mr'],inplace=True)\n",
    "\n",
    "data.groupby('title',group_keys=False).apply(lambda g: g.Age.mean())\n",
    "age_by_title = data.groupby('title',as_index=False)['Age'].mean()\n",
    "\n",
    "data['meanAge'] = pd.merge(pd.DataFrame(data['title']),age_by_title,on='title',how='inner')['Age']\n",
    "\n",
    "data.loc[data.Age.isnull(),'Age'] = data.loc[data.Age.isnull(),'meanAge'] \n",
    "\n",
    "# Check missing age count\n",
    "sum(data.Age.isnull())"
   ]
  },
  {
   "cell_type": "code",
   "execution_count": 9,
   "metadata": {
    "slideshow": {
     "slide_type": "slide"
    }
   },
   "outputs": [
    {
     "data": {
      "text/plain": [
       "0"
      ]
     },
     "execution_count": 9,
     "metadata": {},
     "output_type": "execute_result"
    }
   ],
   "source": [
    "### Impute 'Embarked' using mode (category with highest frequency)\n",
    "\n",
    "data['Embarked'].fillna('S',inplace=True)\n",
    "sum(data.Embarked.isnull())"
   ]
  },
  {
   "cell_type": "code",
   "execution_count": 10,
   "metadata": {
    "slideshow": {
     "slide_type": "slide"
    }
   },
   "outputs": [],
   "source": [
    "# We can reduce some of the categories in Sibsp and Parch by creating group\n",
    "\n",
    "data.SibSp = [\"1+\" if x > 1 else str(x) for x in data.SibSp]\n",
    "data.Parch = [\"1+\" if x > 1 else x for x in data.Parch]\n",
    "\n",
    "# Convert into catgorical\n",
    "data.Pclass = data.Pclass.astype('category')\n",
    "data.SibSp = data.SibSp.astype('category')\n",
    "data.Parch = data.Parch.astype('category')\n",
    "\n",
    "data_dummy = pd.get_dummies(data[['Pclass', 'Sex', 'Embarked','SibSp', 'Parch']], drop_first=True)"
   ]
  },
  {
   "cell_type": "code",
   "execution_count": 11,
   "metadata": {
    "slideshow": {
     "slide_type": "slide"
    }
   },
   "outputs": [
    {
     "data": {
      "text/html": [
       "<div>\n",
       "<style scoped>\n",
       "    .dataframe tbody tr th:only-of-type {\n",
       "        vertical-align: middle;\n",
       "    }\n",
       "\n",
       "    .dataframe tbody tr th {\n",
       "        vertical-align: top;\n",
       "    }\n",
       "\n",
       "    .dataframe thead th {\n",
       "        text-align: right;\n",
       "    }\n",
       "</style>\n",
       "<table border=\"1\" class=\"dataframe\">\n",
       "  <thead>\n",
       "    <tr style=\"text-align: right;\">\n",
       "      <th></th>\n",
       "      <th>PassengerId</th>\n",
       "      <th>Survived</th>\n",
       "      <th>Age</th>\n",
       "      <th>Fare</th>\n",
       "      <th>Pclass_2</th>\n",
       "      <th>Pclass_3</th>\n",
       "      <th>Sex_male</th>\n",
       "      <th>Embarked_Q</th>\n",
       "      <th>Embarked_S</th>\n",
       "      <th>SibSp_1</th>\n",
       "      <th>SibSp_1+</th>\n",
       "      <th>Parch_1</th>\n",
       "      <th>Parch_1+</th>\n",
       "    </tr>\n",
       "  </thead>\n",
       "  <tbody>\n",
       "    <tr>\n",
       "      <th>0</th>\n",
       "      <td>1</td>\n",
       "      <td>0</td>\n",
       "      <td>22.0</td>\n",
       "      <td>7.2500</td>\n",
       "      <td>0</td>\n",
       "      <td>1</td>\n",
       "      <td>1</td>\n",
       "      <td>0</td>\n",
       "      <td>1</td>\n",
       "      <td>1</td>\n",
       "      <td>0</td>\n",
       "      <td>0</td>\n",
       "      <td>0</td>\n",
       "    </tr>\n",
       "    <tr>\n",
       "      <th>1</th>\n",
       "      <td>2</td>\n",
       "      <td>1</td>\n",
       "      <td>38.0</td>\n",
       "      <td>71.2833</td>\n",
       "      <td>0</td>\n",
       "      <td>0</td>\n",
       "      <td>0</td>\n",
       "      <td>0</td>\n",
       "      <td>0</td>\n",
       "      <td>1</td>\n",
       "      <td>0</td>\n",
       "      <td>0</td>\n",
       "      <td>0</td>\n",
       "    </tr>\n",
       "    <tr>\n",
       "      <th>2</th>\n",
       "      <td>3</td>\n",
       "      <td>1</td>\n",
       "      <td>26.0</td>\n",
       "      <td>7.9250</td>\n",
       "      <td>0</td>\n",
       "      <td>1</td>\n",
       "      <td>0</td>\n",
       "      <td>0</td>\n",
       "      <td>1</td>\n",
       "      <td>0</td>\n",
       "      <td>0</td>\n",
       "      <td>0</td>\n",
       "      <td>0</td>\n",
       "    </tr>\n",
       "    <tr>\n",
       "      <th>3</th>\n",
       "      <td>4</td>\n",
       "      <td>1</td>\n",
       "      <td>35.0</td>\n",
       "      <td>53.1000</td>\n",
       "      <td>0</td>\n",
       "      <td>0</td>\n",
       "      <td>0</td>\n",
       "      <td>0</td>\n",
       "      <td>1</td>\n",
       "      <td>1</td>\n",
       "      <td>0</td>\n",
       "      <td>0</td>\n",
       "      <td>0</td>\n",
       "    </tr>\n",
       "    <tr>\n",
       "      <th>4</th>\n",
       "      <td>5</td>\n",
       "      <td>0</td>\n",
       "      <td>35.0</td>\n",
       "      <td>8.0500</td>\n",
       "      <td>0</td>\n",
       "      <td>1</td>\n",
       "      <td>1</td>\n",
       "      <td>0</td>\n",
       "      <td>1</td>\n",
       "      <td>0</td>\n",
       "      <td>0</td>\n",
       "      <td>0</td>\n",
       "      <td>0</td>\n",
       "    </tr>\n",
       "  </tbody>\n",
       "</table>\n",
       "</div>"
      ],
      "text/plain": [
       "   PassengerId  Survived   Age     Fare  Pclass_2  Pclass_3  Sex_male  \\\n",
       "0            1         0  22.0   7.2500         0         1         1   \n",
       "1            2         1  38.0  71.2833         0         0         0   \n",
       "2            3         1  26.0   7.9250         0         1         0   \n",
       "3            4         1  35.0  53.1000         0         0         0   \n",
       "4            5         0  35.0   8.0500         0         1         1   \n",
       "\n",
       "   Embarked_Q  Embarked_S  SibSp_1  SibSp_1+  Parch_1  Parch_1+  \n",
       "0           0           1        1         0        0         0  \n",
       "1           0           0        1         0        0         0  \n",
       "2           0           1        0         0        0         0  \n",
       "3           0           1        1         0        0         0  \n",
       "4           0           1        0         0        0         0  "
      ]
     },
     "execution_count": 11,
     "metadata": {},
     "output_type": "execute_result"
    }
   ],
   "source": [
    "data2 = pd.concat([data[['PassengerId', 'Survived', 'Age', 'Fare']], data_dummy],axis=1)\n",
    "data2.head()"
   ]
  },
  {
   "cell_type": "code",
   "execution_count": 12,
   "metadata": {
    "slideshow": {
     "slide_type": "slide"
    }
   },
   "outputs": [],
   "source": [
    "# Split the data into 3 sets - train, validation and test\n",
    "# We will split in the ration 72-18-10 %\n",
    "import sklearn\n",
    "from sklearn.model_selection import train_test_split\n",
    "\n",
    "\n",
    "nrow = len(data)\n",
    "X_train, X_val = sklearn.model_selection.train_test_split(data2.iloc[:,2:],test_size=int(nrow*0.1),random_state=1)\n",
    "X_train, X_test = sklearn.model_selection.train_test_split(X_train,test_size=int(nrow*0.2),random_state=1)\n",
    "\n",
    "Y = data2.iloc[:,1].astype('category')\n",
    "Y_train, Y_val = sklearn.model_selection.train_test_split(Y,test_size=int(nrow*0.1),random_state=1)\n",
    "Y_train, Y_test = sklearn.model_selection.train_test_split(Y_train,test_size=int(nrow*0.2),random_state=1)"
   ]
  },
  {
   "cell_type": "code",
   "execution_count": 13,
   "metadata": {
    "slideshow": {
     "slide_type": "slide"
    }
   },
   "outputs": [
    {
     "name": "stderr",
     "output_type": "stream",
     "text": [
      "C:\\Anaconda3\\lib\\site-packages\\statsmodels\\compat\\pandas.py:56: FutureWarning: The pandas.core.datetools module is deprecated and will be removed in a future version. Please use the pandas.tseries module instead.\n",
      "  from pandas.core import datetools\n"
     ]
    },
    {
     "name": "stdout",
     "output_type": "stream",
     "text": [
      "Optimization terminated successfully.\n",
      "         Current function value: 0.432712\n",
      "         Iterations 6\n"
     ]
    },
    {
     "data": {
      "text/html": [
       "<table class=\"simpletable\">\n",
       "<tr>\n",
       "        <td>Model:</td>              <td>Logit</td>       <td>No. Iterations:</td>   <td>6.0000</td> \n",
       "</tr>\n",
       "<tr>\n",
       "  <td>Dependent Variable:</td>     <td>Survived</td>     <td>Pseudo R-squared:</td>   <td>0.350</td> \n",
       "</tr>\n",
       "<tr>\n",
       "         <td>Date:</td>        <td>2018-06-19 12:37</td>       <td>AIC:</td>        <td>564.0246</td>\n",
       "</tr>\n",
       "<tr>\n",
       "   <td>No. Observations:</td>         <td>624</td>             <td>BIC:</td>        <td>617.2584</td>\n",
       "</tr>\n",
       "<tr>\n",
       "       <td>Df Model:</td>             <td>11</td>         <td>Log-Likelihood:</td>   <td>-270.01</td>\n",
       "</tr>\n",
       "<tr>\n",
       "     <td>Df Residuals:</td>           <td>612</td>           <td>LL-Null:</td>       <td>-415.28</td>\n",
       "</tr>\n",
       "<tr>\n",
       "      <td>Converged:</td>           <td>1.0000</td>           <td>Scale:</td>        <td>1.0000</td> \n",
       "</tr>\n",
       "</table>\n",
       "<table class=\"simpletable\">\n",
       "<tr>\n",
       "       <td></td>       <th>Coef.</th>  <th>Std.Err.</th>     <th>z</th>     <th>P>|z|</th> <th>[0.025</th>  <th>0.975]</th> \n",
       "</tr>\n",
       "<tr>\n",
       "  <th>const</th>      <td>3.8012</td>   <td>0.5572</td>   <td>6.8218</td>  <td>0.0000</td> <td>2.7090</td>  <td>4.8933</td> \n",
       "</tr>\n",
       "<tr>\n",
       "  <th>Age</th>        <td>-0.0344</td>  <td>0.0090</td>   <td>-3.8418</td> <td>0.0001</td> <td>-0.0520</td> <td>-0.0169</td>\n",
       "</tr>\n",
       "<tr>\n",
       "  <th>Fare</th>       <td>0.0002</td>   <td>0.0029</td>   <td>0.0638</td>  <td>0.9491</td> <td>-0.0055</td> <td>0.0059</td> \n",
       "</tr>\n",
       "<tr>\n",
       "  <th>Pclass_2</th>   <td>-0.9088</td>  <td>0.3667</td>   <td>-2.4785</td> <td>0.0132</td> <td>-1.6274</td> <td>-0.1901</td>\n",
       "</tr>\n",
       "<tr>\n",
       "  <th>Pclass_3</th>   <td>-2.0982</td>  <td>0.3529</td>   <td>-5.9453</td> <td>0.0000</td> <td>-2.7899</td> <td>-1.4065</td>\n",
       "</tr>\n",
       "<tr>\n",
       "  <th>Sex_male</th>   <td>-2.7102</td>  <td>0.2456</td>  <td>-11.0350</td> <td>0.0000</td> <td>-3.1916</td> <td>-2.2288</td>\n",
       "</tr>\n",
       "<tr>\n",
       "  <th>Embarked_Q</th> <td>0.0105</td>   <td>0.4549</td>   <td>0.0230</td>  <td>0.9817</td> <td>-0.8811</td> <td>0.9020</td> \n",
       "</tr>\n",
       "<tr>\n",
       "  <th>Embarked_S</th> <td>-0.4801</td>  <td>0.2913</td>   <td>-1.6484</td> <td>0.0993</td> <td>-1.0510</td> <td>0.0907</td> \n",
       "</tr>\n",
       "<tr>\n",
       "  <th>SibSp_1</th>    <td>0.2285</td>   <td>0.2704</td>   <td>0.8451</td>  <td>0.3980</td> <td>-0.3014</td> <td>0.7585</td> \n",
       "</tr>\n",
       "<tr>\n",
       "  <th>SibSp_1+</th>   <td>-1.3666</td>  <td>0.4672</td>   <td>-2.9249</td> <td>0.0034</td> <td>-2.2823</td> <td>-0.4508</td>\n",
       "</tr>\n",
       "<tr>\n",
       "  <th>Parch_1</th>    <td>0.6191</td>   <td>0.3402</td>   <td>1.8198</td>  <td>0.0688</td> <td>-0.0477</td> <td>1.2859</td> \n",
       "</tr>\n",
       "<tr>\n",
       "  <th>Parch_1+</th>   <td>-0.2717</td>  <td>0.3987</td>   <td>-0.6813</td> <td>0.4957</td> <td>-1.0532</td> <td>0.5098</td> \n",
       "</tr>\n",
       "</table>"
      ],
      "text/plain": [
       "<class 'statsmodels.iolib.summary2.Summary'>\n",
       "\"\"\"\n",
       "                        Results: Logit\n",
       "===============================================================\n",
       "Model:              Logit            No. Iterations:   6.0000  \n",
       "Dependent Variable: Survived         Pseudo R-squared: 0.350   \n",
       "Date:               2018-06-19 12:37 AIC:              564.0246\n",
       "No. Observations:   624              BIC:              617.2584\n",
       "Df Model:           11               Log-Likelihood:   -270.01 \n",
       "Df Residuals:       612              LL-Null:          -415.28 \n",
       "Converged:          1.0000           Scale:            1.0000  \n",
       "---------------------------------------------------------------\n",
       "                Coef.  Std.Err.    z     P>|z|   [0.025  0.975]\n",
       "---------------------------------------------------------------\n",
       "const           3.8012   0.5572   6.8218 0.0000  2.7090  4.8933\n",
       "Age            -0.0344   0.0090  -3.8418 0.0001 -0.0520 -0.0169\n",
       "Fare            0.0002   0.0029   0.0638 0.9491 -0.0055  0.0059\n",
       "Pclass_2       -0.9088   0.3667  -2.4785 0.0132 -1.6274 -0.1901\n",
       "Pclass_3       -2.0982   0.3529  -5.9453 0.0000 -2.7899 -1.4065\n",
       "Sex_male       -2.7102   0.2456 -11.0350 0.0000 -3.1916 -2.2288\n",
       "Embarked_Q      0.0105   0.4549   0.0230 0.9817 -0.8811  0.9020\n",
       "Embarked_S     -0.4801   0.2913  -1.6484 0.0993 -1.0510  0.0907\n",
       "SibSp_1         0.2285   0.2704   0.8451 0.3980 -0.3014  0.7585\n",
       "SibSp_1+       -1.3666   0.4672  -2.9249 0.0034 -2.2823 -0.4508\n",
       "Parch_1         0.6191   0.3402   1.8198 0.0688 -0.0477  1.2859\n",
       "Parch_1+       -0.2717   0.3987  -0.6813 0.4957 -1.0532  0.5098\n",
       "===============================================================\n",
       "\n",
       "\"\"\""
      ]
     },
     "execution_count": 13,
     "metadata": {},
     "output_type": "execute_result"
    }
   ],
   "source": [
    "\n",
    "### Now we will run our first version of model\n",
    "# Model on Train Data\n",
    "import statsmodels.api as sm\n",
    "\n",
    "logit_model=sm.Logit(Y_train,sm.add_constant(X_train))\n",
    "result=logit_model.fit()\n",
    "result.summary2()"
   ]
  },
  {
   "cell_type": "code",
   "execution_count": 14,
   "metadata": {
    "slideshow": {
     "slide_type": "slide"
    }
   },
   "outputs": [
    {
     "data": {
      "text/plain": [
       "array([[ 343.,   42.],\n",
       "       [  66.,  173.]])"
      ]
     },
     "execution_count": 14,
     "metadata": {},
     "output_type": "execute_result"
    }
   ],
   "source": [
    "# confusion matrix\n",
    "# The output comes in the from Actual-0,pred-0 ; Actual-0,pred-1 ; Actual-1,pred-1 ; Actual-1,pred-1 \n",
    "# reading in clockwise direction\n",
    "result.pred_table()"
   ]
  },
  {
   "cell_type": "code",
   "execution_count": 15,
   "metadata": {
    "slideshow": {
     "slide_type": "slide"
    }
   },
   "outputs": [
    {
     "name": "stdout",
     "output_type": "stream",
     "text": [
      "TN = 343\n",
      "FP = 42\n",
      "TP = 173\n",
      "FN = 66\n",
      "Accuracy = 516 which is 82.69%\n",
      "Precision : 80.47%\n",
      "Recall : 72.38%\n"
     ]
    }
   ],
   "source": [
    "# Calculate using probability cutoff and predicted probabilities\n",
    "\n",
    "cutoff = 0.5 # predicted prob above 0.5 will be categorised as 1\n",
    "\n",
    "pred_prob = result.predict()\n",
    "pred_class = [1 if x > cutoff else 0 for x in pred_prob]\n",
    "\n",
    "TN = sum([1 if pred_class[i] == 0 and list(Y_train)[i] == 0 else 0 for i in range(0,len(Y_train))])\n",
    "FP = sum([1 if pred_class[i] == 1 and list(Y_train)[i] == 0 else 0 for i in range(0,len(Y_train))])\n",
    "TP = sum([1 if pred_class[i] == 1 and list(Y_train)[i] == 1 else 0 for i in range(0,len(Y_train))])\n",
    "FN = sum([1 if pred_class[i] == 0 and list(Y_train)[i] == 1 else 0 for i in range(0,len(Y_train))])\n",
    "Precision = round(TP*100/(TP+FP),2)\n",
    "Recall = round(TP*100/(TP+FN),2)\n",
    "\n",
    "print('TN = ' + str(TN))\n",
    "print('FP = ' + str(FP))\n",
    "print('TP = ' + str(TP))\n",
    "print('FN = ' + str(FN))\n",
    "\n",
    "print('Accuracy = ' + str(TN + TP) + ' which is ' + str(round((TN+TP)*100/len(Y_train),2)) + '%')\n",
    "print('Precision : ' + str(Precision) + '%')\n",
    "print('Recall : ' + str(Recall) + '%')"
   ]
  }
 ],
 "metadata": {
  "anaconda-cloud": {},
  "celltoolbar": "Slideshow",
  "kernelspec": {
   "display_name": "Python 3",
   "language": "python",
   "name": "python3"
  },
  "language_info": {
   "codemirror_mode": {
    "name": "ipython",
    "version": 3
   },
   "file_extension": ".py",
   "mimetype": "text/x-python",
   "name": "python",
   "nbconvert_exporter": "python",
   "pygments_lexer": "ipython3",
   "version": "3.6.5"
  },
  "nbpresent": {
   "slides": {
    "0f799cea-3674-494e-995c-524b61e3ed0e": {
     "id": "0f799cea-3674-494e-995c-524b61e3ed0e",
     "prev": "93eca2cd-5e40-4700-b434-664c06f1f785",
     "regions": {
      "c84478a9-3076-4688-9082-12c7bc3e1857": {
       "attrs": {
        "height": 0.8,
        "width": 0.8,
        "x": 0.1,
        "y": 0.1
       },
       "content": {
        "cell": "5da018cd-204d-4717-a37f-0b6bce484eb3",
        "part": "whole"
       },
       "id": "c84478a9-3076-4688-9082-12c7bc3e1857"
      }
     }
    },
    "25423d82-6b2d-40ba-b1cc-4fbf959c528c": {
     "id": "25423d82-6b2d-40ba-b1cc-4fbf959c528c",
     "prev": "326c1a7a-2650-4a8e-8bda-1c19b4cee730",
     "regions": {
      "f7d21472-79c9-4f22-bcd9-ef8695694fbb": {
       "attrs": {
        "height": 0.8,
        "width": 0.8,
        "x": 0.1,
        "y": 0.1
       },
       "content": {
        "cell": "f930b104-6fb2-49b3-ae1f-b0a6309591a9",
        "part": "whole"
       },
       "id": "f7d21472-79c9-4f22-bcd9-ef8695694fbb"
      }
     }
    },
    "326c1a7a-2650-4a8e-8bda-1c19b4cee730": {
     "id": "326c1a7a-2650-4a8e-8bda-1c19b4cee730",
     "prev": "9c239f2e-e4f9-494e-b5f2-707b08414b3f",
     "regions": {
      "4e602ec9-2939-4ba7-8bc6-8b6a3de4dfa0": {
       "attrs": {
        "height": 0.8,
        "width": 0.8,
        "x": 0.1,
        "y": 0.1
       },
       "content": {
        "cell": "78a94ae8-a338-4c0f-b760-58cd7a5ee79a",
        "part": "whole"
       },
       "id": "4e602ec9-2939-4ba7-8bc6-8b6a3de4dfa0"
      }
     }
    },
    "4f8459a9-69ef-4bf2-ae6a-973a9e99f50d": {
     "id": "4f8459a9-69ef-4bf2-ae6a-973a9e99f50d",
     "prev": "0f799cea-3674-494e-995c-524b61e3ed0e",
     "regions": {
      "97492dd8-d47e-409c-acc7-dd581b234525": {
       "attrs": {
        "height": 0.8,
        "width": 0.8,
        "x": 0.1,
        "y": 0.1
       },
       "content": {
        "cell": "073f2904-2232-401d-bcd3-4d0c81531128",
        "part": "whole"
       },
       "id": "97492dd8-d47e-409c-acc7-dd581b234525"
      }
     }
    },
    "93eca2cd-5e40-4700-b434-664c06f1f785": {
     "id": "93eca2cd-5e40-4700-b434-664c06f1f785",
     "prev": "25423d82-6b2d-40ba-b1cc-4fbf959c528c",
     "regions": {
      "1c7c123b-5544-469f-9ac1-6b81feb99f23": {
       "attrs": {
        "height": 0.8,
        "width": 0.8,
        "x": 0.1,
        "y": 0.1
       },
       "content": {
        "cell": "dc70cb7d-113a-4aa5-bf74-44fa251ec458",
        "part": "whole"
       },
       "id": "1c7c123b-5544-469f-9ac1-6b81feb99f23"
      }
     }
    },
    "9a2b0b10-b366-4660-8879-63a3b68be2ec": {
     "id": "9a2b0b10-b366-4660-8879-63a3b68be2ec",
     "prev": "4f8459a9-69ef-4bf2-ae6a-973a9e99f50d",
     "regions": {
      "3e1ef5a0-3b25-47f7-9f2f-ab49aed47990": {
       "attrs": {
        "height": 0.8,
        "width": 0.8,
        "x": 0.1,
        "y": 0.1
       },
       "content": {
        "cell": "8c1dcf3f-46ce-4e78-9ba9-53e9ab5f8558",
        "part": "whole"
       },
       "id": "3e1ef5a0-3b25-47f7-9f2f-ab49aed47990"
      }
     }
    },
    "9c239f2e-e4f9-494e-b5f2-707b08414b3f": {
     "id": "9c239f2e-e4f9-494e-b5f2-707b08414b3f",
     "prev": "efba9e70-d9d6-4abd-a8b0-91942a95d598",
     "regions": {
      "da62f607-c9be-4ffb-8eb5-e30779c14fb9": {
       "attrs": {
        "height": 0.8,
        "width": 0.8,
        "x": 0.1,
        "y": 0.1
       },
       "content": {
        "cell": "57384398-aebb-4d82-8dcc-6bf59b7afb41",
        "part": "whole"
       },
       "id": "da62f607-c9be-4ffb-8eb5-e30779c14fb9"
      }
     }
    },
    "a0027586-f39c-4adf-a6f9-3db8ee91fe42": {
     "id": "a0027586-f39c-4adf-a6f9-3db8ee91fe42",
     "prev": "9a2b0b10-b366-4660-8879-63a3b68be2ec",
     "regions": {
      "9b27ce12-3e04-445f-8400-ec2faf3d4b2d": {
       "attrs": {
        "height": 0.8,
        "width": 0.8,
        "x": 0.1,
        "y": 0.1
       },
       "content": {
        "cell": "97fd075f-e9e8-47b2-ac3b-fbbafb5ff08a",
        "part": "whole"
       },
       "id": "9b27ce12-3e04-445f-8400-ec2faf3d4b2d"
      }
     }
    },
    "efba9e70-d9d6-4abd-a8b0-91942a95d598": {
     "id": "efba9e70-d9d6-4abd-a8b0-91942a95d598",
     "layout": "grid",
     "prev": null,
     "regions": {
      "adebcbf4-7d79-4a94-bf2d-4a22c9273049": {
       "attrs": {
        "height": 1,
        "pad": 0.01,
        "treemap:weight": 1,
        "width": 1,
        "x": 0,
        "y": 0
       },
       "content": {
        "cell": "311877bb-4a9b-4699-9365-a0ad440d0615",
        "part": "whole"
       },
       "id": "adebcbf4-7d79-4a94-bf2d-4a22c9273049",
       "y": 0.05
      }
     },
     "theme": "92a2e750-7439-46a3-b0b3-441c486e485c"
    }
   },
   "themes": {
    "default": "92a2e750-7439-46a3-b0b3-441c486e485c",
    "theme": {}
   }
  }
 },
 "nbformat": 4,
 "nbformat_minor": 2
}
